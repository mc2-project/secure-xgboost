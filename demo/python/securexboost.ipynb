{
 "cells": [
  {
   "cell_type": "markdown",
   "metadata": {},
   "source": [
    "# Secure XGBoost Demo Notebook\n",
    "This notebook provides an example of how one could use Secure XGBoost. In this example, we will use the client's encrypted data to train an XGBoost model on the server, within a secure enclave. \n",
    "\n",
    "For the purposes of the example, the client and server both run on the same machine. However, in an actual deployment, the client process would be executed on a separate, trusted machine. The server is assumed to be completely untrusted (except the secure enclave), so no sensitive data should be left in plaintext (i.e., unencrypted) outside the enclave.\n",
    "\n",
    "The example consists of the following steps. \n",
    "\n",
    "1. **Key generation**: The client generates a secret symmetric key.\n",
    "2. **Data encryption**: The client uses the key to encrypt its data.\n",
    "3. **Enclave setup**: The client initializes its user object with the secret symmetric key, its private key, and its certificate. The server creates an enclave, and starts a process within it. The client [*attests*](https://software.intel.com/en-us/articles/code-sample-intel-software-guard-extensions-remote-attestation-end-to-end-example) the enclave process, and securely transfers its key to the enclave.\n",
    "5. **Data loading**: The enclave loads the client's encrypted data.\n",
    "6. **Training**: The enclave trains a model using the provided data.\n",
    "67. **Prediction**: The enclave makes predictions with the model, and produces a set of encrypted results; the client decrypts the results.\n",
    "\n",
    "Documentation for Secure XGBoost can be found [here](https://mc2-project.github.io/secure-xgboost/)."
   ]
  },
  {
   "cell_type": "code",
   "execution_count": 1,
   "metadata": {},
   "outputs": [
    {
     "ename": "ModuleNotFoundError",
     "evalue": "No module named 'securexgboost'",
     "output_type": "error",
     "traceback": [
      "\u001b[0;31m---------------------------------------------------------------------------\u001b[0m",
      "\u001b[0;31mModuleNotFoundError\u001b[0m                       Traceback (most recent call last)",
      "\u001b[0;32m/var/folders/lg/fyt81c7x6bg7r_vk2wr7v7340000gn/T/ipykernel_16900/1336822352.py\u001b[0m in \u001b[0;36m<module>\u001b[0;34m\u001b[0m\n\u001b[1;32m      2\u001b[0m \u001b[0mget_ipython\u001b[0m\u001b[0;34m(\u001b[0m\u001b[0;34m)\u001b[0m\u001b[0;34m.\u001b[0m\u001b[0mrun_line_magic\u001b[0m\u001b[0;34m(\u001b[0m\u001b[0;34m'autoreload'\u001b[0m\u001b[0;34m,\u001b[0m \u001b[0;34m'2'\u001b[0m\u001b[0;34m)\u001b[0m\u001b[0;34m\u001b[0m\u001b[0;34m\u001b[0m\u001b[0m\n\u001b[1;32m      3\u001b[0m \u001b[0;34m\u001b[0m\u001b[0m\n\u001b[0;32m----> 4\u001b[0;31m \u001b[0;32mimport\u001b[0m \u001b[0msecurexgboost\u001b[0m \u001b[0;32mas\u001b[0m \u001b[0mxgb\u001b[0m\u001b[0;34m\u001b[0m\u001b[0;34m\u001b[0m\u001b[0m\n\u001b[0m\u001b[1;32m      5\u001b[0m \u001b[0;32mimport\u001b[0m \u001b[0mos\u001b[0m\u001b[0;34m\u001b[0m\u001b[0;34m\u001b[0m\u001b[0m\n\u001b[1;32m      6\u001b[0m \u001b[0;34m\u001b[0m\u001b[0m\n",
      "\u001b[0;31mModuleNotFoundError\u001b[0m: No module named 'securexgboost'"
     ]
    }
   ],
   "source": [
    "%load_ext autoreload\n",
    "%autoreload 2\n",
    "\n",
    "import securexgboost as xgb\n",
    "import os\n",
    "\n",
    "username = \"user1\"\n",
    "HOME_DIR = os.path.abspath('') + \"/../../../\"\n",
    "CURRENT_DIR = os.path.abspath('') + \"/\"\n",
    "PUB_KEY = HOME_DIR + \"config/user1.pem\"\n",
    "CERT_FILE = HOME_DIR + \"config/{0}.crt\".format(username)"
   ]
  },
  {
   "cell_type": "markdown",
   "metadata": {},
   "source": [
    "## 1. Key Generation\n",
    "Generate a key to be used for encryption."
   ]
  },
  {
   "cell_type": "code",
   "execution_count": null,
   "metadata": {},
   "outputs": [],
   "source": [
    "KEY_FILE = CURRENT_DIR + \"key.txt\"\n",
    "\n",
    "# Generate a key you will be using for encryption\n",
    "xgb.generate_client_key(KEY_FILE)"
   ]
  },
  {
   "cell_type": "markdown",
   "metadata": {},
   "source": [
    "## 2. Data Encryption\n",
    "Use the key generated above to encrypt our data."
   ]
  },
  {
   "cell_type": "code",
   "execution_count": null,
   "metadata": {},
   "outputs": [],
   "source": [
    "training_data = HOME_DIR + \"demo/data/agaricus.txt.train\"\n",
    "enc_training_data = CURRENT_DIR + \"train.enc\"\n",
    "\n",
    "# Encrypt training data\n",
    "xgb.encrypt_file(training_data, enc_training_data, KEY_FILE)"
   ]
  },
  {
   "cell_type": "code",
   "execution_count": null,
   "metadata": {},
   "outputs": [],
   "source": [
    "test_data = HOME_DIR + \"demo/data/agaricus.txt.test\"\n",
    "enc_test_data = CURRENT_DIR + \"test.enc\"\n",
    "\n",
    "# Encrypt test data\n",
    "xgb.encrypt_file(test_data, enc_test_data, KEY_FILE)"
   ]
  },
  {
   "cell_type": "markdown",
   "metadata": {},
   "source": [
    "## 3. Enclave setup\n",
    "\n",
    "We'll need to create an enclave, authenticate the enclave, and lastly give the enclave the key we used to encrypt the data.\n",
    "\n",
    "First, the client sets up its keys, creates an enclave, and runs the secure XGBoost binary inside the enclave. (This step may take several seconds to initialize the enclave.)"
   ]
  },
  {
   "cell_type": "code",
   "execution_count": null,
   "metadata": {},
   "outputs": [],
   "source": [
    "xgb.init_client(user_name=username, sym_key_file=KEY_FILE, priv_key_file=PUB_KEY, cert_file=CERT_FILE)"
   ]
  },
  {
   "cell_type": "markdown",
   "metadata": {},
   "source": [
    "Simultaneously, the server launches the enclave."
   ]
  },
  {
   "cell_type": "code",
   "execution_count": null,
   "metadata": {},
   "outputs": [],
   "source": [
    "xgb.init_server(enclave_image=HOME_DIR + \"build/enclave/xgboost_enclave.signed\", client_list=[username])"
   ]
  },
  {
   "cell_type": "markdown",
   "metadata": {},
   "source": [
    "Next, the client verifies that the enclace has been correctly deployed, using remote attestation."
   ]
  },
  {
   "cell_type": "code",
   "execution_count": null,
   "metadata": {},
   "outputs": [],
   "source": [
    "# Remote Attestation\n",
    "\n",
    "# Pass in `verify=False` if running in simulation mode.\n",
    "xgb.attest()"
   ]
  },
  {
   "cell_type": "markdown",
   "metadata": {},
   "source": [
    "## 4. Data loading\n",
    "The enclave is now ready to start the training process. First, load the encrypted data into a `DMatrix` within the enclave."
   ]
  },
  {
   "cell_type": "code",
   "execution_count": null,
   "metadata": {},
   "outputs": [],
   "source": [
    "# Load training data\n",
    "dtrain = xgb.DMatrix({username: enc_training_data})"
   ]
  },
  {
   "cell_type": "code",
   "execution_count": null,
   "metadata": {},
   "outputs": [],
   "source": [
    "# Load test data\n",
    "dtest = xgb.DMatrix({username: enc_test_data})"
   ]
  },
  {
   "cell_type": "markdown",
   "metadata": {},
   "source": [
    "## 5. Training\n",
    "Set the training parameters, and start the training process within the enclave."
   ]
  },
  {
   "cell_type": "code",
   "execution_count": null,
   "metadata": {},
   "outputs": [],
   "source": [
    "# Set parameters\n",
    "params = {\n",
    "        \"tree_method\": \"hist\",\n",
    "        \"n_gpus\": \"0\",\n",
    "        \"objective\": \"binary:logistic\",\n",
    "        \"min_child_weight\": \"1\",\n",
    "        \"gamma\": \"0.1\",\n",
    "        \"max_depth\": \"3\",\n",
    "        \"verbosity\": \"1\" \n",
    "}"
   ]
  },
  {
   "cell_type": "code",
   "execution_count": null,
   "metadata": {},
   "outputs": [],
   "source": [
    "# Train\n",
    "num_rounds = 5\n",
    "booster = xgb.train(params, dtrain, num_rounds, evals=[(dtrain, \"train\"), (dtest, \"test\")])"
   ]
  },
  {
   "cell_type": "markdown",
   "metadata": {},
   "source": [
    "## 6. Prediction\n",
    "Our `predict()` function yields predictions in an encrypted manner. The buffer that it returns will need to be decrypted by the client using the same key that the original data was encrypted with."
   ]
  },
  {
   "cell_type": "code",
   "execution_count": null,
   "metadata": {},
   "outputs": [],
   "source": [
    "# Get Encrypted Predictions\n",
    "enc_preds, num_preds = booster.predict(dtest, decrypt=False)"
   ]
  },
  {
   "cell_type": "code",
   "execution_count": null,
   "metadata": {},
   "outputs": [],
   "source": [
    "# Decrypt Predictions\n",
    "preds = booster.decrypt_predictions(enc_preds, num_preds)\n",
    "print(preds)"
   ]
  }
 ],
 "metadata": {
  "kernelspec": {
   "display_name": "Python 3 (ipykernel)",
   "language": "python",
   "name": "python3"
  },
  "language_info": {
   "codemirror_mode": {
    "name": "ipython",
    "version": 3
   },
   "file_extension": ".py",
   "mimetype": "text/x-python",
   "name": "python",
   "nbconvert_exporter": "python",
   "pygments_lexer": "ipython3",
   "version": "3.9.7"
  }
 },
 "nbformat": 4,
 "nbformat_minor": 2
}
